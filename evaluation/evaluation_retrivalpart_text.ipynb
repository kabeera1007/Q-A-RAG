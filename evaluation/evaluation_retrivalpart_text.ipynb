{
 "cells": [
  {
   "cell_type": "code",
   "execution_count": 1,
   "id": "aa4246f1",
   "metadata": {},
   "outputs": [],
   "source": [
    "import json\n",
    "\n",
    "with open('documents-with-ids.json', 'rt') as f_in:\n",
    "    documents = json.load(f_in)"
   ]
  },
  {
   "cell_type": "code",
   "execution_count": 3,
   "id": "f72674cd",
   "metadata": {},
   "outputs": [],
   "source": [
    "from elasticsearch import Elasticsearch"
   ]
  },
  {
   "cell_type": "code",
   "execution_count": 4,
   "id": "6ba96583",
   "metadata": {},
   "outputs": [
    {
     "data": {
      "text/plain": [
       "ObjectApiResponse({'acknowledged': True, 'shards_acknowledged': True, 'index': 'course-questions'})"
      ]
     },
     "execution_count": 4,
     "metadata": {},
     "output_type": "execute_result"
    }
   ],
   "source": [
    "es_client = Elasticsearch('http://localhost:9200') \n",
    "\n",
    "index_settings = {\n",
    "    \"settings\": {\n",
    "        \"number_of_shards\": 1,\n",
    "        \"number_of_replicas\": 0\n",
    "    },\n",
    "    \"mappings\": {\n",
    "        \"properties\": {\n",
    "            \"text\": {\"type\": \"text\"},\n",
    "            \"section\": {\"type\": \"text\"},\n",
    "            \"question\": {\"type\": \"text\"},\n",
    "            \"course\": {\"type\": \"keyword\"},\n",
    "            \"id\": {\"type\": \"keyword\"},\n",
    "        }\n",
    "    }\n",
    "}\n",
    "\n",
    "index_name = \"course-questions\"\n",
    "\n",
    "es_client.indices.delete(index=index_name, ignore_unavailable=True)\n",
    "es_client.indices.create(index=index_name, body=index_settings)"
   ]
  },
  {
   "cell_type": "code",
   "execution_count": 5,
   "id": "a88fd4cc",
   "metadata": {},
   "outputs": [
    {
     "data": {
      "application/vnd.jupyter.widget-view+json": {
       "model_id": "3d5da77d65fe4d18b45a607c1b36cdf4",
       "version_major": 2,
       "version_minor": 0
      },
      "text/plain": [
       "  0%|          | 0/948 [00:00<?, ?it/s]"
      ]
     },
     "metadata": {},
     "output_type": "display_data"
    }
   ],
   "source": [
    "from tqdm.auto import tqdm\n",
    "\n",
    "for doc in tqdm(documents):\n",
    "    es_client.index(index=index_name, document=doc)"
   ]
  },
  {
   "cell_type": "code",
   "execution_count": 6,
   "id": "d3045b1c",
   "metadata": {},
   "outputs": [],
   "source": [
    "def elastic_search(query, course):\n",
    "    search_query = {\n",
    "        \"size\": 5,\n",
    "        \"query\": {\n",
    "            \"bool\": {\n",
    "                \"must\": {\n",
    "                    \"multi_match\": {\n",
    "                        \"query\": query,\n",
    "                        \"fields\": [\"question^3\", \"text\", \"section\"],\n",
    "                        \"type\": \"best_fields\"\n",
    "                    }\n",
    "                },\n",
    "                \"filter\": {\n",
    "                    \"term\": {\n",
    "                        \"course\": course\n",
    "                    }\n",
    "                }\n",
    "            }\n",
    "        }\n",
    "    }\n",
    "\n",
    "    response = es_client.search(index=index_name, body=search_query)\n",
    "    \n",
    "    result_docs = []\n",
    "    \n",
    "    for hit in response['hits']['hits']:\n",
    "        result_docs.append(hit['_source'])\n",
    "    \n",
    "    return result_docs"
   ]
  },
  {
   "cell_type": "code",
   "execution_count": 7,
   "id": "91f0ba53",
   "metadata": {
    "scrolled": true
   },
   "outputs": [
    {
     "data": {
      "text/plain": [
       "[{'text': \"Yes, even if you don't register, you're still eligible to submit the homeworks.\\nBe aware, however, that there will be deadlines for turning in the final projects. So don't leave everything for the last minute.\",\n",
       "  'section': 'General course-related questions',\n",
       "  'question': 'Course - Can I still join the course after the start date?',\n",
       "  'course': 'data-engineering-zoomcamp',\n",
       "  'id': '7842b56a'},\n",
       " {'text': 'You can start by installing and setting up all the dependencies and requirements:\\nGoogle cloud account\\nGoogle Cloud SDK\\nPython 3 (installed with Anaconda)\\nTerraform\\nGit\\nLook over the prerequisites and syllabus to see if you are comfortable with these subjects.',\n",
       "  'section': 'General course-related questions',\n",
       "  'question': 'Course - What can I do before the course starts?',\n",
       "  'course': 'data-engineering-zoomcamp',\n",
       "  'id': '63394d91'},\n",
       " {'text': 'Yes, we will keep all the materials after the course finishes, so you can follow the course at your own pace after it finishes.\\nYou can also continue looking at the homeworks and continue preparing for the next cohort. I guess you can also start working on your final capstone project.',\n",
       "  'section': 'General course-related questions',\n",
       "  'question': 'Course - Can I follow the course after it finishes?',\n",
       "  'course': 'data-engineering-zoomcamp',\n",
       "  'id': 'a482086d'},\n",
       " {'text': 'Yes, the slack channel remains open and you can ask questions there. But always sDocker containers exit code w search the channel first and second, check the FAQ (this document), most likely all your questions are already answered here.\\nYou can also tag the bot @ZoomcampQABot to help you conduct the search, but don’t rely on its answers 100%, it is pretty good though.',\n",
       "  'section': 'General course-related questions',\n",
       "  'question': 'Course - Can I get support if I take the course in the self-paced mode?',\n",
       "  'course': 'data-engineering-zoomcamp',\n",
       "  'id': 'eb56ae98'},\n",
       " {'text': \"You don't need it. You're accepted. You can also just start learning and submitting homework without registering. It is not checked against any registered list. Registration is just to gauge interest before the start date.\",\n",
       "  'section': 'General course-related questions',\n",
       "  'question': 'Course - I have registered for the Data Engineering Bootcamp. When can I expect to receive the confirmation email?',\n",
       "  'course': 'data-engineering-zoomcamp',\n",
       "  'id': '0bbf41ec'}]"
      ]
     },
     "execution_count": 7,
     "metadata": {},
     "output_type": "execute_result"
    }
   ],
   "source": [
    "elastic_search(\n",
    "    query=\"I just discovered the course. Can I still join?\",\n",
    "    course=\"data-engineering-zoomcamp\"\n",
    ")"
   ]
  },
  {
   "cell_type": "code",
   "execution_count": 8,
   "id": "be741d65",
   "metadata": {},
   "outputs": [],
   "source": [
    "import pandas as pd"
   ]
  },
  {
   "cell_type": "code",
   "execution_count": 9,
   "id": "9b1c27fc",
   "metadata": {},
   "outputs": [],
   "source": [
    "df_ground_truth = pd.read_csv('ground-truth-data.csv')"
   ]
  },
  {
   "cell_type": "code",
   "execution_count": 10,
   "id": "88b71aaa",
   "metadata": {},
   "outputs": [],
   "source": [
    "ground_truth = df_ground_truth.to_dict(orient='records')"
   ]
  },
  {
   "cell_type": "code",
   "execution_count": 11,
   "id": "459a620c",
   "metadata": {},
   "outputs": [
    {
     "data": {
      "application/vnd.jupyter.widget-view+json": {
       "model_id": "4800a62e2e0e4747a20c959ce9c61cce",
       "version_major": 2,
       "version_minor": 0
      },
      "text/plain": [
       "  0%|          | 0/4627 [00:00<?, ?it/s]"
      ]
     },
     "metadata": {},
     "output_type": "display_data"
    }
   ],
   "source": [
    "relevance_results = []  # Stores relevance lists for all queries\n",
    "\n",
    "for query_data in tqdm(ground_truth):\n",
    "    expected_doc_id = query_data['document']    \n",
    "    # Perform Elasticsearch query\n",
    "    retrieved_docs = elastic_search(query=query_data['question'], course=query_data['course'])    \n",
    "    # Check if retrieved document IDs match the expected document ID\n",
    "    relevance_flags = [doc['id'] == expected_doc_id for doc in retrieved_docs]    \n",
    "    # Store the result\n",
    "    relevance_results.append(relevance_flags)"
   ]
  },
  {
   "cell_type": "code",
   "execution_count": 13,
   "id": "be314911",
   "metadata": {},
   "outputs": [],
   "source": [
    "def hit_rate(relevance_results):\n",
    "    \"\"\"Calculate the hit rate based on relevance results.    \n",
    "    A hit is counted if at least one relevant document (True) exists in the retrieved results.\n",
    "    \"\"\"\n",
    "    hit_count = sum(any(relevance_flags) for relevance_flags in relevance_results)\n",
    "    return hit_count / len(relevance_results) if relevance_results else 0  # Avoid division by zero\n"
   ]
  },
  {
   "cell_type": "code",
   "execution_count": 14,
   "id": "97136295",
   "metadata": {},
   "outputs": [],
   "source": [
    "def mrr(relevance_results):\n",
    "    \"\"\"Compute Mean Reciprocal Rank (MRR) based on relevance results.    \n",
    "    MRR calculates the average reciprocal rank of the first relevant document \n",
    "    across multiple queries.\n",
    "    \"\"\"\n",
    "    mrr_score = 0.0\n",
    "    for relevance_flags in relevance_results:\n",
    "        # Find the first occurrence of True (i.e., first relevant document)\n",
    "        first_hit_rank = next((rank + 1 for rank, is_relevant in enumerate(relevance_flags) if is_relevant), 0)      \n",
    "        # If a relevant document was found, add its reciprocal rank\n",
    "        if first_hit_rank:\n",
    "            mrr_score += 1 / first_hit_rank\n",
    "\n",
    "    return mrr_score / len(relevance_results) if relevance_results else 0.0  # Avoid division by zero"
   ]
  },
  {
   "cell_type": "code",
   "execution_count": 15,
   "id": "7318e950",
   "metadata": {},
   "outputs": [],
   "source": [
    "example = [\n",
    "    [True, False, False, False, False], # 1, \n",
    "    [False, False, False, False, False], # 0\n",
    "    [False, False, False, False, False], # 0 \n",
    "    [False, False, False, False, False], # 0\n",
    "    [False, False, False, False, False], # 0 \n",
    "    [True, False, False, False, False], # 1\n",
    "    [True, False, False, False, False], # 1\n",
    "    [True, False, False, False, False], # 1\n",
    "    [True, False, False, False, False], # 1\n",
    "    [True, False, False, False, False], # 1 \n",
    "    [False, False, True, False, False],  # 1/3\n",
    "    [False, False, False, False, False], # 0\n",
    "]\n",
    "\n",
    "#### in mrr it use reprocrocal rank like \n",
    "# true at position 1 => 1\n",
    "# 2 => 1 / 2 = 0.5\n",
    "# 3 => 1 / 3 = 0.3333\n",
    "# 4 => 0.25\n",
    "# 5 => 0.2\n",
    "# rank => 1 / rank\n",
    "# none => 0"
   ]
  },
  {
   "cell_type": "code",
   "execution_count": 16,
   "id": "1e890c91",
   "metadata": {},
   "outputs": [
    {
     "data": {
      "text/plain": [
       "0.5833333333333334"
      ]
     },
     "execution_count": 16,
     "metadata": {},
     "output_type": "execute_result"
    }
   ],
   "source": [
    "hit_rate(example)"
   ]
  },
  {
   "cell_type": "code",
   "execution_count": 17,
   "id": "a0252d5e",
   "metadata": {},
   "outputs": [
    {
     "data": {
      "text/plain": [
       "0.5277777777777778"
      ]
     },
     "execution_count": 17,
     "metadata": {},
     "output_type": "execute_result"
    }
   ],
   "source": [
    "mrr(example)"
   ]
  },
  {
   "cell_type": "code",
   "execution_count": 18,
   "id": "07fb7001",
   "metadata": {},
   "outputs": [
    {
     "data": {
      "text/plain": [
       "(0.7395720769397017, 0.6024385851163465)"
      ]
     },
     "execution_count": 18,
     "metadata": {},
     "output_type": "execute_result"
    }
   ],
   "source": [
    "hit_rate(relevance_results), mrr(relevance_results)"
   ]
  },
  {
   "cell_type": "code",
   "execution_count": 19,
   "id": "4af69627",
   "metadata": {},
   "outputs": [
    {
     "data": {
      "text/plain": [
       "<minsearch.Index at 0x15495f3efa0>"
      ]
     },
     "execution_count": 19,
     "metadata": {},
     "output_type": "execute_result"
    }
   ],
   "source": [
    "\n",
    "import minsearch\n",
    "\n",
    "index = minsearch.Index(\n",
    "    text_fields=[\"question\", \"text\", \"section\"],\n",
    "    keyword_fields=[\"course\", \"id\"]\n",
    ")\n",
    "\n",
    "index.fit(documents)"
   ]
  },
  {
   "cell_type": "code",
   "execution_count": 20,
   "id": "8d235694",
   "metadata": {},
   "outputs": [],
   "source": [
    "\n",
    "def minsearch_search(query, course):\n",
    "    boost = {'question': 3.0, 'section': 0.5}\n",
    "\n",
    "    results = index.search(\n",
    "        query=query,\n",
    "        filter_dict={'course': course},\n",
    "        boost_dict=boost,\n",
    "        num_results=5\n",
    "    )\n",
    "\n",
    "    return results"
   ]
  },
  {
   "cell_type": "code",
   "execution_count": 21,
   "id": "10c67beb",
   "metadata": {},
   "outputs": [
    {
     "data": {
      "application/vnd.jupyter.widget-view+json": {
       "model_id": "8dbc455adb8441398ac8542eec997fa9",
       "version_major": 2,
       "version_minor": 0
      },
      "text/plain": [
       "  0%|          | 0/4627 [00:00<?, ?it/s]"
      ]
     },
     "metadata": {},
     "output_type": "display_data"
    }
   ],
   "source": [
    "relevance_results = []\n",
    "\n",
    "for q in tqdm(ground_truth):\n",
    "    doc_id = q['document']\n",
    "    results = minsearch_search(query=q['question'], course=q['course'])\n",
    "    relevance = [d['id'] == doc_id for d in results]\n",
    "    relevance_results.append(relevance)"
   ]
  },
  {
   "cell_type": "code",
   "execution_count": 22,
   "id": "75b8d182",
   "metadata": {},
   "outputs": [
    {
     "data": {
      "text/plain": [
       "(0.7722066133563864, 0.6609862401844251)"
      ]
     },
     "execution_count": 22,
     "metadata": {},
     "output_type": "execute_result"
    }
   ],
   "source": [
    "hit_rate(relevance_results), mrr(relevance_results)"
   ]
  },
  {
   "cell_type": "code",
   "execution_count": 23,
   "id": "b61289b8",
   "metadata": {},
   "outputs": [],
   "source": [
    "def evaluate(ground_truth, search_function):\n",
    "    relevance_results = []\n",
    "\n",
    "    for q in tqdm(ground_truth):\n",
    "        doc_id = q['document']\n",
    "        results = search_function(q)\n",
    "        relevance = [d['id'] == doc_id for d in results]\n",
    "        relevance_results.append(relevance)\n",
    "\n",
    "    return {\n",
    "        'hit_rate': hit_rate(relevance_results),\n",
    "        'mrr': mrr(relevance_results),\n",
    "    }"
   ]
  },
  {
   "cell_type": "code",
   "execution_count": 24,
   "id": "d3b43b32",
   "metadata": {},
   "outputs": [
    {
     "data": {
      "application/vnd.jupyter.widget-view+json": {
       "model_id": "78923b0628c5498ba7508eb34480d829",
       "version_major": 2,
       "version_minor": 0
      },
      "text/plain": [
       "  0%|          | 0/4627 [00:00<?, ?it/s]"
      ]
     },
     "metadata": {},
     "output_type": "display_data"
    },
    {
     "data": {
      "text/plain": [
       "{'hit_rate': 0.7395720769397017, 'mrr': 0.6024385851163465}"
      ]
     },
     "execution_count": 24,
     "metadata": {},
     "output_type": "execute_result"
    }
   ],
   "source": [
    "evaluate(ground_truth, lambda q: elastic_search(q['question'], q['course']))"
   ]
  },
  {
   "cell_type": "code",
   "execution_count": 25,
   "id": "74cb95be",
   "metadata": {},
   "outputs": [
    {
     "data": {
      "application/vnd.jupyter.widget-view+json": {
       "model_id": "2c77043a696f4342851e435930aaf23c",
       "version_major": 2,
       "version_minor": 0
      },
      "text/plain": [
       "  0%|          | 0/4627 [00:00<?, ?it/s]"
      ]
     },
     "metadata": {},
     "output_type": "display_data"
    },
    {
     "data": {
      "text/plain": [
       "{'hit_rate': 0.7722066133563864, 'mrr': 0.6609862401844251}"
      ]
     },
     "execution_count": 25,
     "metadata": {},
     "output_type": "execute_result"
    }
   ],
   "source": [
    "evaluate(ground_truth, lambda q: minsearch_search(q['question'], q['course']))"
   ]
  },
  {
   "cell_type": "code",
   "execution_count": null,
   "id": "f2246558",
   "metadata": {},
   "outputs": [],
   "source": []
  }
 ],
 "metadata": {
  "kernelspec": {
   "display_name": "Python 3",
   "language": "python",
   "name": "python3"
  },
  "language_info": {
   "codemirror_mode": {
    "name": "ipython",
    "version": 3
   },
   "file_extension": ".py",
   "mimetype": "text/x-python",
   "name": "python",
   "nbconvert_exporter": "python",
   "pygments_lexer": "ipython3",
   "version": "3.8.8"
  }
 },
 "nbformat": 4,
 "nbformat_minor": 5
}
